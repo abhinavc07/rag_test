{
 "cells": [
  {
   "cell_type": "code",
   "execution_count": null,
   "metadata": {},
   "outputs": [],
   "source": [
    "# Python environment setup script for COLPALI\n",
    "\"\"\"\n",
    "conda create -n colpali python=3.11.4 -y\n",
    "conda activate colpali\n",
    "pip3 install torch torchvision torchaudio --index-url https://download.pytorch.org/whl/cu124\n",
    "pip install transformers\n",
    "pip install colpali_engine==0.1.1\n",
    "pip install mteb\n",
    "\"\"\""
   ]
  },
  {
   "cell_type": "code",
   "execution_count": null,
   "metadata": {},
   "outputs": [],
   "source": [
    "import torch\n",
    "from torch.utils.data import DataLoader\n",
    "from tqdm import tqdm\n",
    "from transformers import AutoProcessor\n",
    "from PIL import Image\n",
    "\n",
    "from colpali_engine.models.paligemma_colbert_architecture import ColPali\n",
    "from colpali_engine.trainer.retrieval_evaluator import CustomEvaluator\n",
    "from colpali_engine.utils.colpali_processing_utils import process_images, process_queries\n",
    "from colpali_engine.utils.image_from_page_utils import load_from_dataset"
   ]
  },
  {
   "cell_type": "code",
   "execution_count": null,
   "metadata": {},
   "outputs": [],
   "source": [
    "# Load model\n",
    "model_name = \"vidore/colpali\"\n",
    "model = ColPali.from_pretrained(\"vidore/colpaligemma-3b-mix-448-base\", torch_dtype=torch.bfloat16, device_map=\"cuda\").eval()\n",
    "model.load_adapter(model_name)\n",
    "processor = AutoProcessor.from_pretrained(model_name)\n",
    "print(processor)"
   ]
  },
  {
   "cell_type": "code",
   "execution_count": 3,
   "metadata": {},
   "outputs": [],
   "source": [
    "from datasets import load_dataset\n",
    "\n",
    "\n",
    "dataset = load_dataset(\"nirantk/finance-pdf-vqa\", split=\"train\")\n",
    "images = dataset[\"image\"]"
   ]
  },
  {
   "cell_type": "code",
   "execution_count": null,
   "metadata": {},
   "outputs": [],
   "source": [
    "print(len(images))\n",
    "print(images[0].size)"
   ]
  },
  {
   "cell_type": "code",
   "execution_count": null,
   "metadata": {},
   "outputs": [],
   "source": [
    "# run inference - docs\n",
    "dataloader = DataLoader(\n",
    "    images,\n",
    "    batch_size=8,\n",
    "    shuffle=False,\n",
    "    collate_fn=lambda x: process_images(processor, x),\n",
    ")\n",
    "ds = []\n",
    "for batch_doc in tqdm(dataloader):\n",
    "    with torch.no_grad():\n",
    "        batch_doc = {k: v.to(model.device) for k, v in batch_doc.items()}\n",
    "        embeddings_doc = model(**batch_doc)\n",
    "    ds.extend(list(torch.unbind(embeddings_doc.to(\"cpu\"))))"
   ]
  },
  {
   "cell_type": "code",
   "execution_count": null,
   "metadata": {},
   "outputs": [],
   "source": [
    "print(len(ds))\n",
    "print(ds[0].shape)"
   ]
  },
  {
   "cell_type": "code",
   "execution_count": null,
   "metadata": {},
   "outputs": [],
   "source": [
    "# run inference - queries\n",
    "queries = [\"What happened in 30 September?\"]\n",
    "\n",
    "dataloader = DataLoader(\n",
    "    queries,\n",
    "    batch_size=4,\n",
    "    shuffle=False,\n",
    "    collate_fn=lambda x: process_queries(processor, x, Image.new(\"RGB\", (448, 448), (255, 255, 255))),\n",
    ")\n",
    "\n",
    "qs = []\n",
    "for batch_query in tqdm(dataloader):\n",
    "    with torch.no_grad():\n",
    "        batch_query = {k: v.to(model.device) for k, v in batch_query.items()}\n",
    "        embeddings_query = model(**batch_query)\n",
    "    qs.extend(list(torch.unbind(embeddings_query.to(\"cpu\"))))\n",
    "\n",
    "\n",
    "print(len(qs))\n",
    "print(qs[0].shape)"
   ]
  },
  {
   "cell_type": "code",
   "execution_count": null,
   "metadata": {},
   "outputs": [],
   "source": [
    "def evaluate_colbert(qs, ps) -> torch.Tensor:\n",
    "    qs_padded = torch.nn.utils.rnn.pad_sequence(qs, batch_first=True, padding_value=0).to(\"cuda\")\n",
    "    ps_padded = torch.nn.utils.rnn.pad_sequence(ps, batch_first=True, padding_value=0).to(\"cuda\")\n",
    "    similarity_matrix = torch.einsum(\"qnd,psd->qpns\", qs_padded, ps_padded)\n",
    "    max_similarities, _ = similarity_matrix.max(dim=3)\n",
    "    final_scores = max_similarities.sum(dim=2)\n",
    "    return final_scores.cpu()\n",
    "\n",
    "\n",
    "new_scores = evaluate_colbert(qs, ds)\n",
    "\n",
    "\n",
    "print(new_scores.argmax(axis=1))\n",
    "for index, result in enumerate(new_scores.argmax(axis=1)):\n",
    "    print(f\"Query: {queries[index]}\")\n",
    "    print(display(images[result]))"
   ]
  },
  {
   "cell_type": "code",
   "execution_count": null,
   "metadata": {},
   "outputs": [],
   "source": []
  }
 ],
 "metadata": {
  "kernelspec": {
   "display_name": "colpali",
   "language": "python",
   "name": "python3"
  },
  "language_info": {
   "codemirror_mode": {
    "name": "ipython",
    "version": 3
   },
   "file_extension": ".py",
   "mimetype": "text/x-python",
   "name": "python",
   "nbconvert_exporter": "python",
   "pygments_lexer": "ipython3",
   "version": "3.11.4"
  }
 },
 "nbformat": 4,
 "nbformat_minor": 2
}
